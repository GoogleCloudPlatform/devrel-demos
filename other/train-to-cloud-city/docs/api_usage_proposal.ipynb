{
 "cells": [
  {
   "cell_type": "code",
   "execution_count": 22,
   "metadata": {},
   "outputs": [],
   "source": [
    "import requests\n",
    "import json\n",
    "from urllib.parse import urljoin\n",
    "base = \"http://localhost:8000/\""
   ]
  },
  {
   "cell_type": "code",
   "execution_count": 10,
   "metadata": {},
   "outputs": [
    {
     "data": {
      "text/plain": [
       "'{\"Hello\":\"Worlds!\"}'"
      ]
     },
     "execution_count": 10,
     "metadata": {},
     "output_type": "execute_result"
    }
   ],
   "source": [
    "res = requests.get(base)\n",
    "#res??\n",
    "res.text\n"
   ]
  },
  {
   "cell_type": "code",
   "execution_count": 26,
   "metadata": {},
   "outputs": [
    {
     "name": "stdout",
     "output_type": "stream",
     "text": [
      "http://localhost:8000/proposal/\n",
      "{\n",
      "    \"valid\": true,\n",
      "    \"reason\": \"placeholder\",\n",
      "    \"pattern\": {\n",
      "        \"slug\": \"always_success\",\n",
      "        \"name\": \"Always Success\",\n",
      "        \"description\": \"Always Successful\",\n",
      "        \"checkpoints\": []\n",
      "    },\n",
      "    \"checkpoints\": []\n",
      "}\n"
     ]
    }
   ],
   "source": [
    "body = \"\"\"{\n",
    "  \"pattern_slug\": \"always_success\",\n",
    "  \"service_slugs\": [\n",
    "    \"some_service_slug\"\n",
    "  ]\n",
    "}\"\"\"\n",
    "\n",
    "url = urljoin(base,\"proposal/\")\n",
    "print(url)\n",
    "\n",
    "res = requests.post(url, body)\n",
    "\n",
    "print(json.dumps(json.loads(res.text), indent=4))\n"
   ]
  },
  {
   "cell_type": "code",
   "execution_count": null,
   "metadata": {},
   "outputs": [],
   "source": []
  }
 ],
 "metadata": {
  "kernelspec": {
   "display_name": "Python 3",
   "language": "python",
   "name": "python3"
  },
  "language_info": {
   "codemirror_mode": {
    "name": "ipython",
    "version": 3
   },
   "file_extension": ".py",
   "mimetype": "text/x-python",
   "name": "python",
   "nbconvert_exporter": "python",
   "pygments_lexer": "ipython3",
   "version": "3.10.7"
  }
 },
 "nbformat": 4,
 "nbformat_minor": 2
}
