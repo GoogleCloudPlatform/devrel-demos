{
  "cells": [
    {
      "cell_type": "code",
      "execution_count": 1,
      "id": "82d78978",
      "metadata": {},
      "outputs": [],
      "source": [
        "# Copyright 2024 Google LLC\n",
        "\n",
        "# Licensed under the Apache License, Version 2.0 (the \"License\");\n",
        "# you may not use this file except in compliance with the License.\n",
        "# You may obtain a copy of the License at\n",
        "\n",
        "#     https://www.apache.org/licenses/LICENSE-2.0\n",
        "\n",
        "# Unless required by applicable law or agreed to in writing, software\n",
        "# distributed under the License is distributed on an \"AS IS\" BASIS,\n",
        "# WITHOUT WARRANTIES OR CONDITIONS OF ANY KIND, either express or implied.\n",
        "# See the License for the specific language governing permissions and\n",
        "# limitations under the License."
      ]
    },
    {
      "cell_type": "markdown",
      "id": "-1_xw_2cRBYH",
      "metadata": {
        "id": "-1_xw_2cRBYH"
      },
      "source": [
        "### Define Constants"
      ]
    },
    {
      "cell_type": "code",
      "execution_count": 2,
      "id": "pqbYCSY9OBuN",
      "metadata": {
        "executionInfo": {
          "elapsed": 71,
          "status": "ok",
          "timestamp": 1712341838506,
          "user": {
            "displayName": "",
            "userId": ""
          },
          "user_tz": 420
        },
        "id": "pqbYCSY9OBuN"
      },
      "outputs": [],
      "source": [
        "USER_ID = \"\"  # @param {type:\"string\"}\n",
        "DEMO_PROJECT = \"\"\n",
        "BIGQUERY_DATASET = \"minigolf\"\n",
        "BIGQUERY_TRACKING_TABLE = \"tracking\"\n",
        "GS_BUCKET = \"\"\n",
        "BACKGROUND_IMAGE_BUCKET = \"\""
      ]
    },
    {
      "cell_type": "markdown",
      "id": "V3Ij8Ar6W3sr",
      "metadata": {
        "id": "V3Ij8Ar6W3sr"
      },
      "source": [
        "### Import necessary Libraries"
      ]
    },
    {
      "cell_type": "code",
      "execution_count": 4,
      "id": "z781yk-OW6F_",
      "metadata": {
        "executionInfo": {
          "elapsed": 68,
          "status": "ok",
          "timestamp": 1712341840071,
          "user": {
            "displayName": "",
            "userId": ""
          },
          "user_tz": 420
        },
        "id": "z781yk-OW6F_"
      },
      "outputs": [],
      "source": [
        "import pandas as pd\n",
        "from google.cloud import bigquery\n",
        "import seaborn as sns\n",
        "\n",
        "import os\n",
        "\n",
        "import matplotlib.pyplot as plt\n",
        "import vertexai\n",
        "from vertexai.generative_models import GenerativeModel, Part\n",
        "import vertexai.preview.generative_models as generative_models\n",
        "from IPython.display import display, Markdown"
      ]
    },
    {
      "cell_type": "markdown",
      "id": "de39bcfc",
      "metadata": {},
      "source": [
        "If you have `AttributeError: module 'bigframes' has no attribute 'dataframe'` after executing the previous cell,\n",
        "\n",
        "execute `!pip install vertexai`. It requires to restart the runtime."
      ]
    },
    {
      "cell_type": "markdown",
      "id": "iIgaoZL185OG",
      "metadata": {
        "id": "iIgaoZL185OG"
      },
      "source": [
        "### Unveiling the Mini-Golf Stats\n",
        "\n",
        "Now, let's dive into the numbers behind the swings! This section analyzes the performance data from all players, giving us insights into how everyone fared on the mini-golf course.\n",
        "\n",
        "We calculate some key statistics:\n",
        "\n",
        "* **Average Number of Shots**: This tells us the average number of shots taken by all players. It gives us a general idea of the course's difficulty.\n",
        "* **Median Number of Shots**: This represents the middle value when all players' shot counts are ordered. It's less affected by outliers (extremely high or low scores) than the average.\n",
        "\n",
        "Finally, we present a **bar chart** visualizing the distribution of shots taken by all players. This gives us a quick overview of how many players took a certain number of shots.\n",
        "\n",
        "So, take a look at the stats and see how you stack up against the competition!"
      ]
    },
    {
      "cell_type": "code",
      "execution_count": null,
      "id": "ujTQgrJRmfle",
      "metadata": {
        "id": "ujTQgrJRmfle"
      },
      "outputs": [],
      "source": [
        "# Configure BigQuery client\n",
        "client = bigquery.Client()\n",
        "query = f\"SELECT * FROM {DEMO_PROJECT}.{BIGQUERY_DATASET}.{BIGQUERY_TRACKING_TABLE}\"\n",
        "\n",
        "df = client.query(query).to_dataframe()\n",
        "last_frame_per_user = df.groupby('user_id')['frame_number'].transform(max)\n",
        "df_filtered = df[df['frame_number'] == last_frame_per_user]\n",
        "user_shot_counts = df_filtered.groupby('user_id')['shot_number'].first()\n",
        "user_shot_counts = user_shot_counts[user_shot_counts > 0]\n",
        "shot_number_freq = user_shot_counts.value_counts()\n",
        "\n",
        "# Selected user's number of shots\n",
        "num_users = df['user_id'].nunique()\n",
        "user_shots = user_shot_counts.get(USER_ID, 0)\n",
        "average_shots_per_user = user_shot_counts.mean()\n",
        "median_shots_per_user = user_shot_counts.median()\n",
        "\n",
        "display(Markdown(f\"### There are {num_users} users played so far.\"))\n",
        "display(Markdown(f\"### User {USER_ID}'s number of shots: {user_shots}\"))\n",
        "display(Markdown(f\"### Average number of shots: {average_shots_per_user:.2f}\"))\n",
        "display(Markdown(f\"### Median number of shots: {median_shots_per_user:.2f}\"))\n",
        "\n",
        "# Transform the 'shot_number_freq' Series into a DataFrame\n",
        "table_data = shot_number_freq.to_frame().reset_index() \n",
        "table_data.columns = ['Number of Shots', 'Number of Users']\n",
        "display(table_data)\n",
        "\n",
        "# Plot a bar chart\n",
        "plt.xlim(0, 10)\n",
        "plt.bar(shot_number_freq.index, shot_number_freq.values, color='#4285F4')\n",
        "plt.xlabel('Number of Shots')\n",
        "plt.ylabel('Number of Users')\n",
        "plt.title('Distribution of Number of Shots per User')\n",
        "plt.show()\n"
      ]
    },
    {
      "cell_type": "markdown",
      "id": "J33U5kj03Ky4",
      "metadata": {
        "id": "J33U5kj03Ky4"
      },
      "source": [
        "### Visualizing Your Mini-Golf Journey\n",
        "\n",
        "This graph provides a bird's-eye view of your mini-golf adventure, showing exactly how the ball traveled across the course. Each cluster of colorful dots represents a specific moment in time – the spot where the ball came to rest after each shot. It's like seeing a snapshot of your game, frozen in time!\n",
        "\n",
        "The colors help us follow the sequence of your shots. The first shot is represented by one color, the second shot by another, and so on. This allows us to easily trace the progression of your game from start to finish.\n",
        "\n",
        "So, take a moment to explore the graph and relive your mini-golf experience. It's a visual representation of your skill and the exciting journey of that little white ball!\n",
        "\n"
      ]
    },
    {
      "cell_type": "code",
      "execution_count": null,
      "id": "tn_z4A681DAz",
      "metadata": {
        "id": "tn_z4A681DAz"
      },
      "outputs": [],
      "source": [
        "client = bigquery.Client()\n",
        "query = f\"\"\"\n",
        "SELECT * FROM `{DEMO_PROJECT}.{BIGQUERY_DATASET}.{BIGQUERY_TRACKING_TABLE}`\n",
        "WHERE user_id = \"{USER_ID}\"\n",
        "\"\"\"\n",
        "\n",
        "df = client.query(query).to_dataframe()\n",
        "df['shot_number_str'] = df['shot_number'].astype(str)\n",
        "\n",
        "file_name = f\"BG_{USER_ID}.jpg\"\n",
        "image_uri = f\"gs://{BACKGROUND_IMAGE_BUCKET}/{file_name}\"\n",
        "local_image_path = '/tmp/downloaded_image.jpg'\n",
        "os.system(f'gsutil cp {image_uri} {local_image_path}')\n",
        "img = plt.imread(local_image_path)\n",
        "\n",
        "fig, ax = plt.subplots(figsize=(15, 7))\n",
        "color_palette = sns.color_palette(\n",
        "    'tab10',\n",
        "    n_colors=len(df['shot_number_str'].unique())\n",
        ")\n",
        "\n",
        "unique_user_ids = df['user_id'].unique()\n",
        "sns.scatterplot(\n",
        "    data=df, x='x', y='y', hue='shot_number_str',\n",
        "    legend=False, palette=color_palette, size=1, ax=ax\n",
        ")\n",
        "\n",
        "# invert y-axis\n",
        "plt.gca().invert_yaxis()\n",
        "\n",
        "ax.imshow(img)\n",
        "plt.show()\n"
      ]
    },
    {
      "cell_type": "markdown",
      "id": "CAM0FCRf3Sqx",
      "metadata": {
        "id": "CAM0FCRf3Sqx"
      },
      "source": [
        "### Gemini: The AI Sportscaster\n",
        "\n",
        "Imagine Gemini as a super-smart assistant who watches your mini-golf game. It can't see you swing the club, but it follows the ball using a video camera, acting like a data detective. Gemini analyzes the video frame-by-frame, tracking the ball's path and how close it gets to the hole.\n",
        "\n",
        "Once Gemini understands the game, it transforms into a real announcer, describing each shot with excitement and flair. But instead of a human voice, it uses its artificial intelligence to generate the commentary. This is possible because Gemini has been trained on a massive amount of sportscasting data, learning the language, style, and energy that announcers bring to the game.\n",
        "\n",
        "The best part? Gemini does all this in real-time! As soon as you finish a hole, it instantly generates commentary, providing insights without any manual effort. It's like having a combination of a data analyst and a sports announcer, all powered by AI. Gemini takes the \"what\" (video data) and turns it into the \"how\" (play-by-play) using its knowledge of sportscasting gleaned from vast amounts of training data.\n",
        "\n",
        "So, whether you're a guest enjoying the game or a presenter explaining the technology, think of Gemini as your AI sportscaster, bringing a unique and insightful perspective to the mini-golf experience!\n"
      ]
    },
    {
      "cell_type": "code",
      "execution_count": null,
      "id": "5RvCZieY1S4h",
      "metadata": {
        "id": "5RvCZieY1S4h"
      },
      "outputs": [],
      "source": [
        "URI = f\"gs://{GS_BUCKET}/{USER_ID}.MP4\"\n",
        "VIDEO = Part.from_uri(uri=URI, mime_type=\"video/mp4\")\n",
        "\n",
        "PRE_DEFINED_TEXT = \"\"\"You are a professional golf announcer and you must broadcast the match a formal and informative tone. You should use the following context.\n",
        "- The match is 'Google Cloud Next - Minigolf Championship final', and the venue is Mandalay Bay, Las Vegas.\n",
        "- The competitor already completed the game and if the player complete this hole within three shots, the player wins.\n",
        "- If the hole is completed over four shots, THE COMPETITOR WINS.\n",
        "- Even though the competitor wins, you must broadcast the game until the player finishes the last shot.\n",
        "- You should not mention anything about the players' appearances or personal lives.\n",
        "- The broadcast must be done in colloquial language and no additional text other than the announcer's comments (e.g., cheers from the audience must not be included).\n",
        "- The course is a rectangle measuring 7 feet by 20 feet, and there are no obstacles or slopes on the course.\n",
        "- The video is recorded in 60 fps.\n",
        "- Describe each shots in detail.\n",
        "- This text will be shown in a markdown format, so make sure add some markdowns as you emphasize.\n",
        "\"\"\"\n",
        "\n",
        "\n",
        "\n",
        "def generate_commentary(df: pd.DataFrame) -> str:\n",
        "    filtered_df = df[df['shot_number'] > 0]\n",
        "\n",
        "    # Group by shot_number\n",
        "    grouped = filtered_df.groupby('shot_number')\n",
        "    first_last_rows = []\n",
        "\n",
        "    # Iterate over each group\n",
        "    for shot_number, group_df in grouped:\n",
        "        # Get the first and last rows for the current shot_number\n",
        "        first_row = group_df.head(1)\n",
        "        last_row = group_df.tail(1)\n",
        "\n",
        "        # Append the first and last rows to the list\n",
        "        first_last_rows.append(first_row)\n",
        "        first_last_rows.append(last_row)\n",
        "\n",
        "    # Concatenate the list of DataFrames into a single DataFrame\n",
        "    result_df = pd.concat(first_last_rows)\n",
        "\n",
        "    shot_details = \"\"\n",
        "    for _, row in result_df.iterrows():\n",
        "        shot_number = row['shot_number']\n",
        "        if row['is_moving']:\n",
        "            shot_details += f\"- Shot {shot_number} started from {row['distance']:.2f} pixels from the hole\\n\"\n",
        "        else:\n",
        "            shot_details += f\"- Shot {shot_number} stopped {row['distance']:.2f} pixels from the hole\\n\"\n",
        "\n",
        "    # Check if last shot distance is less than 50 (made a hole-in)\n",
        "    result = \"didn't make\" if df['distance'].iloc[-1] > 50 else \"made\"\n",
        "\n",
        "    commentary = f\"\"\"\n",
        "    - Here's the analytics of each shot extracted from the video. Use it as a reference:\n",
        "    {shot_details}\n",
        "    - The ball {result.upper()} the hole after the shot number {shot_number}.\n",
        "    - The measurement of the distance is in pixels. The distance is measured from the center of the ball to the center of the hole.\n",
        "    - DO NOT USE pixels as a unit of measurement. USE ONLY feet and yards. Convert pixel to feet and yards appropriately.\n",
        "    - After the final shot, if the remaining pixel is less than 50 pixel, then consider it as a hole-in.\n",
        "    \"\"\"\n",
        "    return commentary\n",
        "\n",
        "def generate():\n",
        "    vertexai.init(project=DEMO_PROJECT, location=\"us-central1\")\n",
        "    model = GenerativeModel(\"gemini-1.5-pro-preview-0409\")\n",
        "    responses = model.generate_content(\n",
        "        [VIDEO, PRE_DEFINED_TEXT, generate_commentary(df)],\n",
        "        generation_config=generation_config,\n",
        "        safety_settings=safety_settings,\n",
        "        stream=False,\n",
        "    )\n",
        "    display(Markdown((responses.text)))\n",
        "\n",
        "\n",
        "generation_config = {\n",
        "    \"max_output_tokens\": 8192,\n",
        "    \"temperature\": 2,\n",
        "    \"top_p\": 0.4,\n",
        "}\n",
        "\n",
        "safety_settings = {\n",
        "    generative_models.HarmCategory.HARM_CATEGORY_HATE_SPEECH: generative_models.HarmBlockThreshold.BLOCK_MEDIUM_AND_ABOVE,\n",
        "    generative_models.HarmCategory.HARM_CATEGORY_DANGEROUS_CONTENT: generative_models.HarmBlockThreshold.BLOCK_MEDIUM_AND_ABOVE,\n",
        "    generative_models.HarmCategory.HARM_CATEGORY_SEXUALLY_EXPLICIT: generative_models.HarmBlockThreshold.BLOCK_MEDIUM_AND_ABOVE,\n",
        "    generative_models.HarmCategory.HARM_CATEGORY_HARASSMENT: generative_models.HarmBlockThreshold.BLOCK_MEDIUM_AND_ABOVE,\n",
        "}\n",
        "\n",
        "generate()\n"
      ]
    },
    {
      "cell_type": "markdown",
      "id": "_GIj_FAhYYPD",
      "metadata": {
        "id": "_GIj_FAhYYPD"
      },
      "source": [
        "### Data Privacy and Deletion:\n",
        "\n",
        "To protect your privacy, the video of your mini-golf game will be deleted from cloud storage after a day. \n",
        "The raw footage was only used to analyze ball positions for generating commentary and insights.\n",
        "\n",
        "Rest assured, your privacy is our top priority. Only the calculated data (ball and hole positions) will be retained for further analysis.\n",
        "\n"
      ]
    }
  ],
  "metadata": {
    "colab": {
      "name": "Comprehensive",
      "provenance": []
    },
    "kernelspec": {
      "display_name": "Python 3",
      "language": "python",
      "name": "python3"
    },
    "language_info": {
      "codemirror_mode": {
        "name": "ipython",
        "version": 3
      },
      "file_extension": ".py",
      "mimetype": "text/x-python",
      "name": "python",
      "nbconvert_exporter": "python",
      "pygments_lexer": "ipython3",
      "version": "3.9.6"
    }
  },
  "nbformat": 4,
  "nbformat_minor": 5
}
